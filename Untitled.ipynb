{
 "cells": [
  {
   "cell_type": "code",
   "execution_count": 1,
   "id": "07118426-3894-4c6c-8fa5-847f76eea863",
   "metadata": {
    "tags": []
   },
   "outputs": [],
   "source": [
    "import numpy as np\n",
    "import scipy.io as sio\n",
    "from scipy.linalg import toeplitz\n",
    "from scipy.stats import multivariate_normal\n",
    "import time\n",
    "\n",
    "from L0Obj import L0Obj\n",
    "from ProjCSimplex import ProjCSimplex\n",
    "from minConf.minConf_PQN import minConF_PQN\n",
    "import random"
   ]
  },
  {
   "cell_type": "code",
   "execution_count": 2,
   "id": "a6feadca-5f99-4077-8a6b-082fb8205638",
   "metadata": {
    "tags": []
   },
   "outputs": [],
   "source": [
    "# Generate Synthetic Data\n",
    "nInstances = 500\n",
    "nVars = 5000\n",
    "k = 20\n",
    "pho = 0.2\n",
    "SNR = 1\n",
    "AccPQN = np.zeros((len([nInstances]), 10))\n",
    "pho = np.sqrt(nInstances)"
   ]
  },
  {
   "cell_type": "code",
   "execution_count": 3,
   "id": "8a519938-028d-444d-8977-735972b68edf",
   "metadata": {
    "tags": []
   },
   "outputs": [],
   "source": [
    "X = np.loadtxt(\"X.txt\",delimiter=',')\n",
    "y = np.loadtxt(\"y.txt\",delimiter=',')[:,np.newaxis]\n",
    "w = np.loadtxt(\"w.txt\",delimiter=',')[:,np.newaxis]\n",
    "utrue = w"
   ]
  },
  {
   "cell_type": "code",
   "execution_count": 4,
   "id": "fcf82346-db70-4217-b80a-3b52f3e3c13e",
   "metadata": {
    "tags": []
   },
   "outputs": [
    {
     "data": {
      "text/plain": [
       "(500, 5000)"
      ]
     },
     "execution_count": 4,
     "metadata": {},
     "output_type": "execute_result"
    }
   ],
   "source": [
    "X.shape"
   ]
  },
  {
   "cell_type": "code",
   "execution_count": 4,
   "id": "5a76aa60-87f4-4dd7-97af-b3833731c1ec",
   "metadata": {
    "tags": []
   },
   "outputs": [],
   "source": [
    "uSimplex = np.ones((nVars, 1)) * (1 / nVars)"
   ]
  },
  {
   "cell_type": "code",
   "execution_count": 5,
   "id": "6d0d5144-72a5-4427-a2f0-57bc96c56512",
   "metadata": {
    "tags": []
   },
   "outputs": [],
   "source": [
    "# Set up Objective Function\n",
    "funObj = lambda w: L0Obj(w, X, y, pho)\n",
    "\n",
    "# Set up Simplex Projection Function\n",
    "funProj = lambda w: ProjCSimplex(w, k)"
   ]
  },
  {
   "cell_type": "code",
   "execution_count": 8,
   "id": "4c2ac571-63ea-4599-be46-7b1f3708bcd7",
   "metadata": {
    "tags": []
   },
   "outputs": [
    {
     "data": {
      "text/plain": [
       "0.07245491681927818"
      ]
     },
     "execution_count": 8,
     "metadata": {},
     "output_type": "execute_result"
    }
   ],
   "source": [
    "uout[24,0]"
   ]
  },
  {
   "cell_type": "code",
   "execution_count": null,
   "id": "03bdd7eb-1f93-400e-9dfb-80cd270e0d4f",
   "metadata": {
    "tags": []
   },
   "outputs": [],
   "source": [
    "np.sum(uout)"
   ]
  },
  {
   "cell_type": "code",
   "execution_count": null,
   "id": "dde18338-39fe-4fe4-a146-81c850680f24",
   "metadata": {},
   "outputs": [],
   "source": []
  }
 ],
 "metadata": {
  "kernelspec": {
   "display_name": "Python 3 (ipykernel)",
   "language": "python",
   "name": "python3"
  },
  "language_info": {
   "codemirror_mode": {
    "name": "ipython",
    "version": 3
   },
   "file_extension": ".py",
   "mimetype": "text/x-python",
   "name": "python",
   "nbconvert_exporter": "python",
   "pygments_lexer": "ipython3",
   "version": "3.10.8"
  }
 },
 "nbformat": 4,
 "nbformat_minor": 5
}
