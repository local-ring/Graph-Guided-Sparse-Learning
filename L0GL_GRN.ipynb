{
 "cells": [
  {
   "cell_type": "code",
   "execution_count": 1,
   "id": "04b0da03-89e2-431e-a688-091cabe3a661",
   "metadata": {
    "tags": []
   },
   "outputs": [],
   "source": [
    "import numpy as np\n",
    "import scipy.io as sio\n",
    "from scipy.linalg import toeplitz\n",
    "from scipy.stats import multivariate_normal\n",
    "import time\n",
    "\n",
    "from L0Obj import L0Obj\n",
    "from ProjCSimplex import ProjCSimplex\n",
    "from minConf.minConf_PQN import minConF_PQN\n",
    "import random"
   ]
  },
  {
   "cell_type": "markdown",
   "id": "63aabeac-6f8a-4e02-8cb2-4fd2560d0a43",
   "metadata": {
    "tags": []
   },
   "source": [
    "# Functions"
   ]
  },
  {
   "cell_type": "markdown",
   "id": "3f7ff5d7-310c-4184-9cdf-38eb1a70630d",
   "metadata": {
    "tags": []
   },
   "source": [
    "## Functions to generate data"
   ]
  },
  {
   "cell_type": "code",
   "execution_count": 78,
   "id": "f5c4bb89-3179-41c8-9493-b061409e19ef",
   "metadata": {
    "tags": []
   },
   "outputs": [],
   "source": [
    "def add_noise_to_signal(signal, desired_snr_db):\n",
    "    # Convert signal to numpy array\n",
    "    signal = np.asarray(signal)\n",
    "    \n",
    "    # Calculate signal power\n",
    "    signal_power = np.mean(signal ** 2)\n",
    "    \n",
    "    # Calculate the desired noise power based on the desired SNR (in dB)\n",
    "    desired_snr_linear = 10 ** (desired_snr_db / 10)\n",
    "    noise_power = signal_power / desired_snr_linear\n",
    "    \n",
    "    # Generate noise with the calculated power\n",
    "    noise = np.random.normal(0, np.sqrt(noise_power), signal.shape)\n",
    "    \n",
    "    # Add noise to the original signal\n",
    "    noisy_signal = signal + noise\n",
    "    \n",
    "    return noisy_signal, noise\n",
    "\n",
    "\n",
    "def compute_snr(signal, noise):\n",
    "    # Convert signal and noise to numpy arrays for calculations\n",
    "    signal = np.asarray(signal)\n",
    "    noise = np.asarray(noise)\n",
    "\n",
    "    # Calculate the power of the signal and the noise\n",
    "    signal_power = np.mean(signal ** 2)\n",
    "    noise_power = np.mean(noise ** 2)\n",
    "    \n",
    "    # Calculate the SNR\n",
    "    snr = signal_power / noise_power\n",
    "    \n",
    "    # Convert SNR to decibels (dB)\n",
    "    snr_db = 10 * np.log10(snr)\n",
    "    \n",
    "    return snr_db\n",
    "\n",
    "\n",
    "def SynData_iid(n, p, b, snr):\n",
    "    #n: the number of samples\n",
    "    #p: the number of features\n",
    "    #b: the number of groups\n",
    "    #snr: signal-noise-ratio snr = 10*log_10 E[S^2]/E[N^2] \n",
    "    \n",
    "    # hard coding sparsity setting\n",
    "    Sparse = [10,10,10,10,10]#[8, 6, 4, 2, 1]\n",
    "    Group = {}\n",
    "    for i in range(len(Sparse)):\n",
    "        Group[i] = 100*i + np.random.permutation(int(p/b))[0:Sparse[i]]\n",
    "    print(Group)\n",
    "\n",
    "    Mean = np.zeros(p)\n",
    "    Cov = np.eye(p)\n",
    "    \n",
    "    X = np.random.multivariate_normal(Mean, Cov, n)\n",
    "    print(X.shape)\n",
    "    w = np.zeros(p)\n",
    "    for i in range(len(Group)):\n",
    "        RandBin = 2*np.random.randint(0, 2, size=len(Group[i]))-1\n",
    "        w[Group[i]] = RandBin\n",
    "    w = w[:,np.newaxis]\n",
    "\n",
    "    Signal = X.dot(w)\n",
    "\n",
    "    Noisy_Signal, Noise = add_noise_to_signal(Signal, snr)\n",
    "\n",
    "    SNR_Cmp = compute_snr(Signal, Noise)\n",
    "    print(\"Computed SNR:\", SNR_Cmp)\n",
    "\n",
    "    y = Noisy_Signal\n",
    "    \n",
    "    # groups info for L0_GL\n",
    "    gn = b\n",
    "    Group = []\n",
    "    for i in range(1, b + 1):\n",
    "        Group.append(list(range((i-1)*int(p/b) , i*int(p/b))))\n",
    "\n",
    "    return y, X, w, Group\n",
    "\n",
    "def Data4Matlab(X,w,y):\n",
    "    d = len(w)\n",
    "    n = len(y)\n",
    "    # for matlab\n",
    "    Folder = \"./RandomEnsembleI_Known_k_h/\"\n",
    "    fn1 = Folder + \"Xnd.txt\"\n",
    "    fh1 = open(fn1,'w')\n",
    "    for i in range(n):\n",
    "        for j in range(d-1):\n",
    "            fh1.write(\"%f\\t\" % (X[i,j]))\n",
    "        fh1.write(\"%f\\n\" % (X[i,d-1]))\n",
    "    fh1.close()\n",
    "\n",
    "    fn2 = Folder + \"yn.txt\"\n",
    "    fh2 = open(fn2, 'w')\n",
    "    for i in range(n):\n",
    "        fh2.write(\"%f\\n\"%(y[i]))\n",
    "    fh2.close()\n",
    "\n",
    "    fn3 = Folder + \"wd.txt\"\n",
    "    fh3 = open(fn3, 'w')\n",
    "    for i in range(d):\n",
    "        fh3.write(\"%f\\n\"%(w[i]))\n",
    "    fh3.close()\n"
   ]
  },
  {
   "cell_type": "markdown",
   "id": "80001856-63f9-4971-810c-3a763d2afafd",
   "metadata": {
    "jp-MarkdownHeadingCollapsed": true,
    "tags": []
   },
   "source": [
    "## Functions of the algorithms"
   ]
  },
  {
   "cell_type": "code",
   "execution_count": 30,
   "id": "5ead7794-bf68-4b0c-8920-5e24fbeb0880",
   "metadata": {
    "tags": []
   },
   "outputs": [],
   "source": [
    "import numpy as np\n",
    "from scipy.sparse import spdiags\n",
    "from scipy.linalg import inv\n",
    "from gurobipy import Model, GRB, QuadExpr\n",
    "\n",
    "def L0GLObj(u, X, y, pho):\n",
    "    # u (feature, 1)\n",
    "    # X (instance, feature)\n",
    "    # y (instance, 1)\n",
    "    # pho (1, 1)\n",
    "    #print(pho)\n",
    "    #print(u)\n",
    "    n, d = X.shape\n",
    "    SpDiag = spdiags(u.flatten(), 0, d, d)\n",
    "    # print(SpDiag)\n",
    "    # print(f\"SpDiag: {SpDiag.toarray()[-1][-1]}\")\n",
    "    M = inv((1/pho) * X @ SpDiag @ X.conj().T + np.eye(n))\n",
    "    f = y.conj().T @ M @ y\n",
    "\n",
    "    g = -(1/pho) * ((X.conj().T @ M @ y)**2)\n",
    "\n",
    "    return f, g\n",
    "\n",
    "def ProjCSimplexGL_Gurobi(u, k, Group, h):\n",
    "    n, m = u.shape\n",
    "    g = len(Group)\n",
    "    \n",
    "    # Create matrices H1 and H2\n",
    "    H1 = np.eye(n)\n",
    "    f1 = -2*u.flatten()\n",
    "\n",
    "    H2 = np.zeros((g, g))\n",
    "    f2 = np.zeros(g)\n",
    "\n",
    "    H = np.block([[H1, np.zeros((n, g))], [np.zeros((g, n)), H2]])\n",
    "    f = np.concatenate([f1, f2])\n",
    "    #print(u.shape)\n",
    "    #print(f.shape)\n",
    "\n",
    "    # Constructing constraint matrices A1 and A2\n",
    "    A1 = np.ones((1, n))\n",
    "    A2 = np.zeros((1, g))\n",
    "    gcn = 0\n",
    "\n",
    "    for i in range(g):\n",
    "        for j in range(len(Group[i])):\n",
    "            A1t = np.zeros((1, n))\n",
    "            A1t[0, Group[i][j]] = 1\n",
    "            A1 = np.vstack([A1, A1t])\n",
    "            \n",
    "            A2t = np.zeros((1, g))\n",
    "            A2t[0, i] = -1\n",
    "            A2 = np.vstack([A2, A2t])\n",
    "            gcn += 1\n",
    "\n",
    "    A1 = np.vstack([A1, np.zeros((1, n))])\n",
    "    A2 = np.vstack([A2, np.ones((1, g))])\n",
    "    A = np.hstack([A1, A2])\n",
    "\n",
    "    # RHS vector\n",
    "    b = np.zeros(gcn + 2)\n",
    "    b[0] = k\n",
    "    b[-1] = h\n",
    "\n",
    "    # Lower and upper bounds\n",
    "    lb = np.zeros(n + g)\n",
    "    ub = np.ones(n + g)\n",
    "\n",
    "    # Setup Gurobi model\n",
    "    model = Model()\n",
    "\n",
    "    # Add variables\n",
    "    Q = H\n",
    "    x = model.addMVar(n + g, ub=1.0, lb=0.0)\n",
    "    \n",
    "    model.setObjective(x@Q@x+ x@f)\n",
    "    model.addConstr(A @ x <= b)\n",
    "    \n",
    "\n",
    "    # Set Gurobi parameters\n",
    "    model.setParam('OutputFlag', 0)\n",
    "    model.setParam('IterationLimit', 5)\n",
    "\n",
    "    # Optimize model\n",
    "    model.optimize()\n",
    "\n",
    "    # Get the results\n",
    "    up = x.x[:n]\n",
    "    zp = x.x[n:]\n",
    "\n",
    "    #print(up.shape)\n",
    "    return up[:,np.newaxis]"
   ]
  },
  {
   "cell_type": "markdown",
   "id": "9f88e9bd-e532-4eb8-b90f-640e64c04e47",
   "metadata": {},
   "source": [
    "# Experiment"
   ]
  },
  {
   "cell_type": "code",
   "execution_count": 79,
   "id": "179e014e-0718-435d-8abb-94c5e80e096f",
   "metadata": {
    "tags": []
   },
   "outputs": [],
   "source": [
    "# Parameters for generating data\n",
    "n=500            # the number of samples\n",
    "p=1000          # the number of features\n",
    "b=10            # the number of groups\n",
    "snr = 4        # signal-noise-ratio\n",
    "\n",
    "# Parameters for the algorithm\n",
    "k=50\n",
    "h=5\n",
    "pho = np.sqrt(n)"
   ]
  },
  {
   "cell_type": "code",
   "execution_count": 80,
   "id": "52a5896d-67cb-4101-adc9-17de9588dca7",
   "metadata": {
    "tags": []
   },
   "outputs": [
    {
     "name": "stdout",
     "output_type": "stream",
     "text": [
      "{0: array([59, 47, 34, 99, 74,  2, 81, 36, 51, 65]), 1: array([117, 138, 112, 177, 115, 125, 163, 114, 109, 123]), 2: array([292, 238, 258, 203, 242, 223, 209, 246, 296, 268]), 3: array([393, 387, 307, 347, 383, 316, 386, 337, 313, 374]), 4: array([466, 460, 454, 487, 480, 499, 428, 431, 409, 465])}\n",
      "(500, 1000)\n",
      "Computed SNR: 4.501181995282714\n"
     ]
    },
    {
     "ename": "FileNotFoundError",
     "evalue": "[Errno 2] No such file or directory: './RandomEnsembleI_Known_k_h/Xnd.txt'",
     "output_type": "error",
     "traceback": [
      "\u001b[0;31m---------------------------------------------------------------------------\u001b[0m",
      "\u001b[0;31mFileNotFoundError\u001b[0m                         Traceback (most recent call last)",
      "Cell \u001b[0;32mIn[80], line 2\u001b[0m\n\u001b[1;32m      1\u001b[0m Resp, FeatureM, w, Group \u001b[38;5;241m=\u001b[39m  SynData_iid(n, p, b, snr)\n\u001b[0;32m----> 2\u001b[0m \u001b[43mData4Matlab\u001b[49m\u001b[43m(\u001b[49m\u001b[43mFeatureM\u001b[49m\u001b[43m,\u001b[49m\u001b[43mw\u001b[49m\u001b[43m,\u001b[49m\u001b[43mResp\u001b[49m\u001b[43m)\u001b[49m\n",
      "Cell \u001b[0;32mIn[78], line 86\u001b[0m, in \u001b[0;36mData4Matlab\u001b[0;34m(X, w, y)\u001b[0m\n\u001b[1;32m     84\u001b[0m Folder \u001b[38;5;241m=\u001b[39m \u001b[38;5;124m\"\u001b[39m\u001b[38;5;124m./RandomEnsembleI_Known_k_h/\u001b[39m\u001b[38;5;124m\"\u001b[39m\n\u001b[1;32m     85\u001b[0m fn1 \u001b[38;5;241m=\u001b[39m Folder \u001b[38;5;241m+\u001b[39m \u001b[38;5;124m\"\u001b[39m\u001b[38;5;124mXnd.txt\u001b[39m\u001b[38;5;124m\"\u001b[39m\n\u001b[0;32m---> 86\u001b[0m fh1 \u001b[38;5;241m=\u001b[39m \u001b[38;5;28;43mopen\u001b[39;49m\u001b[43m(\u001b[49m\u001b[43mfn1\u001b[49m\u001b[43m,\u001b[49m\u001b[38;5;124;43m'\u001b[39;49m\u001b[38;5;124;43mw\u001b[39;49m\u001b[38;5;124;43m'\u001b[39;49m\u001b[43m)\u001b[49m\n\u001b[1;32m     87\u001b[0m \u001b[38;5;28;01mfor\u001b[39;00m i \u001b[38;5;129;01min\u001b[39;00m \u001b[38;5;28mrange\u001b[39m(n):\n\u001b[1;32m     88\u001b[0m     \u001b[38;5;28;01mfor\u001b[39;00m j \u001b[38;5;129;01min\u001b[39;00m \u001b[38;5;28mrange\u001b[39m(d\u001b[38;5;241m-\u001b[39m\u001b[38;5;241m1\u001b[39m):\n",
      "File \u001b[0;32m~/anaconda3/lib/python3.10/site-packages/IPython/core/interactiveshell.py:310\u001b[0m, in \u001b[0;36m_modified_open\u001b[0;34m(file, *args, **kwargs)\u001b[0m\n\u001b[1;32m    303\u001b[0m \u001b[38;5;28;01mif\u001b[39;00m file \u001b[38;5;129;01min\u001b[39;00m {\u001b[38;5;241m0\u001b[39m, \u001b[38;5;241m1\u001b[39m, \u001b[38;5;241m2\u001b[39m}:\n\u001b[1;32m    304\u001b[0m     \u001b[38;5;28;01mraise\u001b[39;00m \u001b[38;5;167;01mValueError\u001b[39;00m(\n\u001b[1;32m    305\u001b[0m         \u001b[38;5;124mf\u001b[39m\u001b[38;5;124m\"\u001b[39m\u001b[38;5;124mIPython won\u001b[39m\u001b[38;5;124m'\u001b[39m\u001b[38;5;124mt let you open fd=\u001b[39m\u001b[38;5;132;01m{\u001b[39;00mfile\u001b[38;5;132;01m}\u001b[39;00m\u001b[38;5;124m by default \u001b[39m\u001b[38;5;124m\"\u001b[39m\n\u001b[1;32m    306\u001b[0m         \u001b[38;5;124m\"\u001b[39m\u001b[38;5;124mas it is likely to crash IPython. If you know what you are doing, \u001b[39m\u001b[38;5;124m\"\u001b[39m\n\u001b[1;32m    307\u001b[0m         \u001b[38;5;124m\"\u001b[39m\u001b[38;5;124myou can use builtins\u001b[39m\u001b[38;5;124m'\u001b[39m\u001b[38;5;124m open.\u001b[39m\u001b[38;5;124m\"\u001b[39m\n\u001b[1;32m    308\u001b[0m     )\n\u001b[0;32m--> 310\u001b[0m \u001b[38;5;28;01mreturn\u001b[39;00m \u001b[43mio_open\u001b[49m\u001b[43m(\u001b[49m\u001b[43mfile\u001b[49m\u001b[43m,\u001b[49m\u001b[43m \u001b[49m\u001b[38;5;241;43m*\u001b[39;49m\u001b[43margs\u001b[49m\u001b[43m,\u001b[49m\u001b[43m \u001b[49m\u001b[38;5;241;43m*\u001b[39;49m\u001b[38;5;241;43m*\u001b[39;49m\u001b[43mkwargs\u001b[49m\u001b[43m)\u001b[49m\n",
      "\u001b[0;31mFileNotFoundError\u001b[0m: [Errno 2] No such file or directory: './RandomEnsembleI_Known_k_h/Xnd.txt'"
     ]
    }
   ],
   "source": [
    "Resp, FeatureM, w, Group =  SynData_iid(n, p, b, snr)\n",
    "Data4Matlab(FeatureM,w,Resp)"
   ]
  },
  {
   "cell_type": "code",
   "execution_count": 73,
   "id": "0715e81d-01bd-490b-ad98-c0dcc532d763",
   "metadata": {
    "tags": []
   },
   "outputs": [],
   "source": [
    "uSimplex = np.ones((p, 1)) * (1 / p)\n",
    "X = FeatureM\n",
    "y = Resp"
   ]
  },
  {
   "cell_type": "code",
   "execution_count": 74,
   "id": "823ab23c-eb1e-4409-a691-0df9bd707290",
   "metadata": {
    "tags": []
   },
   "outputs": [],
   "source": [
    "# Set up Objective Function\n",
    "funObj = lambda w: L0GLObj(w, X, y, pho)\n",
    "\n",
    "# Set up Simplex Projection Function\n",
    "funProj = lambda w: ProjCSimplexGL_Gurobi(w, k, Group, h)"
   ]
  },
  {
   "cell_type": "code",
   "execution_count": 75,
   "id": "6ac9ef14-fd9f-4af6-acbe-1774342889e3",
   "metadata": {
    "tags": []
   },
   "outputs": [
    {
     "name": "stdout",
     "output_type": "stream",
     "text": [
      " Iteration   FunEvals Projections     Step Length    Function Val        Opt Cond\n",
      "         1          2          4     5.23621e-07     3.59056e+04     5.09000e+01\n",
      "         2          3         16     1.00000e+00     2.79748e+04     5.08529e+01\n",
      "         3          4         28     1.00000e+00     2.34661e+04     5.12431e+01\n",
      "         4          5         40     1.00000e+00     1.85972e+04     5.22833e+01\n",
      "         5          6         52     1.00000e+00     1.48352e+04     5.42274e+01\n",
      "         6          7         64     1.00000e+00     1.16316e+04     5.76998e+01\n",
      "         7          8         76     1.00000e+00     9.04546e+03     6.34660e+01\n",
      "         8          9         88     1.00000e+00     6.96117e+03     7.22494e+01\n",
      "         9         10        100     1.00000e+00     5.91832e+03     7.39409e+01\n",
      "        10         11        112     1.00000e+00     5.51633e+03     6.80454e+01\n",
      "        11         12        124     1.00000e+00     5.32741e+03     7.56998e+01\n",
      "        12         13        136     1.00000e+00     5.26596e+03     7.66809e+01\n",
      "        13         14        148     1.00000e+00     5.24086e+03     8.47228e+01\n",
      "        14         15        160     1.00000e+00     5.22571e+03     8.02842e+01\n",
      "        15         16        172     1.00000e+00     5.21737e+03     8.30029e+01\n",
      "        16         17        184     1.00000e+00     5.21334e+03     7.77751e+01\n",
      "        17         18        196     1.00000e+00     5.21122e+03     6.89251e+01\n",
      "        18         19        208     1.00000e+00     5.20989e+03     6.64668e+01\n",
      "        19         20        220     1.00000e+00     5.20918e+03     7.43505e+01\n",
      "        20         21        232     1.00000e+00     5.20882e+03     6.58659e+01\n",
      "        21         22        244     1.00000e+00     5.20857e+03     6.54505e+01\n",
      "        22         23        256     1.00000e+00     5.20845e+03     5.61346e+01\n",
      "        23         24        268     1.00000e+00     5.20837e+03     4.94206e+01\n",
      "        24         25        280     1.00000e+00     5.20833e+03     4.17281e+01\n",
      "        25         26        292     1.00000e+00     5.20831e+03     3.45329e+01\n",
      "        26         27        304     1.00000e+00     5.20830e+03     2.72886e+01\n",
      "        27         28        316     1.00000e+00     5.20829e+03     2.42440e+01\n",
      "        28         29        328     1.00000e+00     5.20829e+03     2.17209e+01\n",
      "        29         30        340     1.00000e+00     5.20828e+03     1.85214e+01\n",
      "        30         31        352     1.00000e+00     5.20828e+03     1.35296e+01\n",
      "        31         32        364     1.00000e+00     5.20828e+03     1.10394e+01\n",
      "        32         33        376     1.00000e+00     5.20828e+03     1.35268e+01\n",
      "        33         34        388     1.00000e+00     5.20828e+03     8.46748e+00\n",
      "        34         35        399     1.00000e+00     5.20828e+03     5.90930e+00\n",
      "        35         36        410     1.00000e+00     5.20828e+03     4.68551e+00\n",
      "        36         37        422     1.00000e+00     5.20828e+03     4.23124e+00\n",
      "        37         38        432     1.00000e+00     5.20828e+03     3.97929e+00\n",
      "        38         39        437     1.00000e+00     5.20828e+03     3.69058e+00\n",
      "        39         40        443     1.00000e+00     5.20828e+03     2.29420e+00\n",
      "        40         41        450     1.00000e+00     5.20828e+03     1.65718e+00\n",
      "        41         42        455     1.00000e+00     5.20828e+03     1.44321e+00\n",
      "        42         43        462     1.00000e+00     5.20828e+03     2.83717e+00\n",
      "        43         44        466     1.00000e+00     5.20828e+03     2.70875e+00\n",
      "        44         45        471     1.00000e+00     5.20828e+03     2.28682e+00\n",
      "Directional Derivative below optTol\n"
     ]
    }
   ],
   "source": [
    "options = {'maxIter': 50}\n",
    "tStart = time.process_time()\n",
    "uout, obj, _ = minConF_PQN(funObj, uSimplex, funProj, options)\n",
    "# data = sio.loadmat('./var_data_NIPS_end.mat')\n",
    "# uout, obj, _ = data[\"uout\"], data[\"obj\"], data[\"a\"]\n",
    "#print(f\"uout: {uout}\")\n",
    "tEnd = time.process_time() - tStart"
   ]
  },
  {
   "cell_type": "code",
   "execution_count": 76,
   "id": "ba5a625f-5171-4e3e-babf-f912cd4773ed",
   "metadata": {
    "tags": []
   },
   "outputs": [
    {
     "name": "stdout",
     "output_type": "stream",
     "text": [
      "0.8\n"
     ]
    }
   ],
   "source": [
    "uout = ProjCSimplexGL_Gurobi(uout, k, Group, h)\n",
    "B = np.sort(-uout.flatten())\n",
    "Ranktmp = np.argsort(-uout.flatten())\n",
    "Rank = np.sort(Ranktmp[:k])\n",
    "\n",
    "utrue = w\n",
    "Indtrue = np.where(utrue)\n",
    "C = np.intersect1d(Rank, Indtrue)\n",
    "AccPQN = len(C) / k\n",
    "\n",
    "print(AccPQN)"
   ]
  },
  {
   "cell_type": "code",
   "execution_count": 77,
   "id": "ed843e7f-64eb-4eaa-8330-791aa31e2a31",
   "metadata": {
    "tags": []
   },
   "outputs": [
    {
     "data": {
      "text/plain": [
       "(array([[0.        ],\n",
       "        [0.08349885],\n",
       "        [0.29930249],\n",
       "        [0.        ],\n",
       "        [0.        ],\n",
       "        [0.02876783],\n",
       "        [0.        ],\n",
       "        [0.        ],\n",
       "        [0.38235069],\n",
       "        [0.        ],\n",
       "        [0.20082421],\n",
       "        [0.09831413],\n",
       "        [0.109971  ],\n",
       "        [0.        ],\n",
       "        [0.03548627],\n",
       "        [0.        ],\n",
       "        [0.        ],\n",
       "        [0.        ],\n",
       "        [0.06569697],\n",
       "        [0.        ]]),\n",
       " array([[0.],\n",
       "        [0.],\n",
       "        [0.],\n",
       "        [0.],\n",
       "        [0.],\n",
       "        [0.],\n",
       "        [0.],\n",
       "        [0.],\n",
       "        [1.],\n",
       "        [0.],\n",
       "        [0.],\n",
       "        [0.],\n",
       "        [0.],\n",
       "        [0.],\n",
       "        [0.],\n",
       "        [0.],\n",
       "        [0.],\n",
       "        [0.],\n",
       "        [0.],\n",
       "        [0.]]))"
      ]
     },
     "execution_count": 77,
     "metadata": {},
     "output_type": "execute_result"
    }
   ],
   "source": [
    "uout[0:20], w[0:20]"
   ]
  },
  {
   "cell_type": "code",
   "execution_count": null,
   "id": "ba3438fd-c0d7-411c-9583-b6c9540f3242",
   "metadata": {},
   "outputs": [],
   "source": []
  },
  {
   "cell_type": "code",
   "execution_count": null,
   "id": "f353b7cc-0a76-46e3-a95e-4e077c4e0493",
   "metadata": {},
   "outputs": [],
   "source": []
  },
  {
   "cell_type": "code",
   "execution_count": null,
   "id": "fabd716a-b658-43a7-a4b5-2acbf03e9f2f",
   "metadata": {},
   "outputs": [],
   "source": []
  },
  {
   "cell_type": "code",
   "execution_count": 61,
   "id": "6fbdf162-bca7-4f7d-907a-f98adfa311a6",
   "metadata": {
    "tags": []
   },
   "outputs": [
    {
     "data": {
      "text/plain": [
       "(40, 1000)"
      ]
     },
     "execution_count": 61,
     "metadata": {},
     "output_type": "execute_result"
    }
   ],
   "source": [
    "X.shape"
   ]
  },
  {
   "cell_type": "code",
   "execution_count": null,
   "id": "7fd1fbfe-e81c-4557-8727-fc3ddd0766dc",
   "metadata": {},
   "outputs": [],
   "source": []
  },
  {
   "cell_type": "code",
   "execution_count": 8,
   "id": "949f92da-c31a-4167-8357-228c1e4f5795",
   "metadata": {
    "tags": []
   },
   "outputs": [],
   "source": [
    "cov = np.array([[6, -3], [-3, 3.5]])\n",
    "pts = np.random.multivariate_normal([0, 0], cov, size=10000)"
   ]
  },
  {
   "cell_type": "code",
   "execution_count": 16,
   "id": "be0bf18b-2741-4463-91fe-f02aa06e997b",
   "metadata": {
    "tags": []
   },
   "outputs": [
    {
     "data": {
      "text/plain": [
       "(10000, 2)"
      ]
     },
     "execution_count": 16,
     "metadata": {},
     "output_type": "execute_result"
    }
   ],
   "source": [
    "pts.shape"
   ]
  },
  {
   "cell_type": "code",
   "execution_count": 11,
   "id": "28d33afe-d768-4d2c-99b8-c8eaccd49115",
   "metadata": {
    "tags": []
   },
   "outputs": [
    {
     "data": {
      "text/plain": [
       "(-0.01834594430993853, 5.828645479309693)"
      ]
     },
     "execution_count": 11,
     "metadata": {},
     "output_type": "execute_result"
    }
   ],
   "source": [
    "np.mean(pts[:,0]), np.var(pts[:,0])"
   ]
  },
  {
   "cell_type": "code",
   "execution_count": 12,
   "id": "0042e7bc-e226-4934-98db-8f353196a984",
   "metadata": {
    "tags": []
   },
   "outputs": [
    {
     "data": {
      "text/plain": [
       "(-0.012953112568373098, 3.4267962342808373)"
      ]
     },
     "execution_count": 12,
     "metadata": {},
     "output_type": "execute_result"
    }
   ],
   "source": [
    "np.mean(pts[:,1]), np.var(pts[:,1])"
   ]
  },
  {
   "cell_type": "code",
   "execution_count": 14,
   "id": "b60bc8b2-87a7-4684-8cb0-ebe77aa02c52",
   "metadata": {
    "tags": []
   },
   "outputs": [
    {
     "data": {
      "text/plain": [
       "array([[-2.01175595, -2.97146764, -2.44843331, ..., -2.39147332,\n",
       "        -6.28507677, -1.48392745],\n",
       "       [ 1.77173421,  1.80522279,  1.51965345, ...,  0.99018067,\n",
       "         1.38301169,  2.44753503]])"
      ]
     },
     "execution_count": 14,
     "metadata": {},
     "output_type": "execute_result"
    }
   ],
   "source": [
    "pts.T"
   ]
  },
  {
   "cell_type": "code",
   "execution_count": 15,
   "id": "ae46555c-51d0-4bd0-957c-7267d1c217a6",
   "metadata": {
    "tags": []
   },
   "outputs": [
    {
     "data": {
      "text/plain": [
       "array([[ 5.8292284 , -2.91685259],\n",
       "       [-2.91685259,  3.42713895]])"
      ]
     },
     "execution_count": 15,
     "metadata": {},
     "output_type": "execute_result"
    }
   ],
   "source": [
    "np.cov(pts.T)"
   ]
  },
  {
   "cell_type": "code",
   "execution_count": null,
   "id": "69e12ff1-bbcd-4c54-b640-b4c863c5c48f",
   "metadata": {},
   "outputs": [],
   "source": []
  }
 ],
 "metadata": {
  "kernelspec": {
   "display_name": "Python 3 (ipykernel)",
   "language": "python",
   "name": "python3"
  },
  "language_info": {
   "codemirror_mode": {
    "name": "ipython",
    "version": 3
   },
   "file_extension": ".py",
   "mimetype": "text/x-python",
   "name": "python",
   "nbconvert_exporter": "python",
   "pygments_lexer": "ipython3",
   "version": "3.10.8"
  }
 },
 "nbformat": 4,
 "nbformat_minor": 5
}
