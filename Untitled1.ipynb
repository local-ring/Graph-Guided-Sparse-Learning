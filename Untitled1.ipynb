{
 "cells": [
  {
   "cell_type": "code",
   "execution_count": 23,
   "id": "3610fa56-2a7d-48f3-8e7d-3be44f120cb2",
   "metadata": {
    "tags": []
   },
   "outputs": [],
   "source": [
    "import numpy as np\n",
    "from gurobipy import Model, GRB, QuadExpr\n",
    "\n",
    "def ProjCSimplexGL_Gurobi(u, k, Group, h):\n",
    "    n, m = u.shape\n",
    "    g = len(Group)\n",
    "    \n",
    "    # Create matrices H1 and H2\n",
    "    H1 = np.eye(n)\n",
    "    f1 = -2*u.flatten()\n",
    "\n",
    "    H2 = np.zeros((g, g))\n",
    "    f2 = np.zeros(g)\n",
    "\n",
    "    H = np.block([[H1, np.zeros((n, g))], [np.zeros((g, n)), H2]])\n",
    "    f = np.concatenate([f1, f2])\n",
    "    #print(f.shape)\n",
    "\n",
    "    # Constructing constraint matrices A1 and A2\n",
    "    A1 = np.ones((1, n))\n",
    "    A2 = np.zeros((1, g))\n",
    "    gcn = 0\n",
    "\n",
    "    for i in range(g):\n",
    "        for j in range(len(Group[i])):\n",
    "            A1t = np.zeros((1, n))\n",
    "            A1t[0, Group[i][j]] = 1\n",
    "            A1 = np.vstack([A1, A1t])\n",
    "            \n",
    "            A2t = np.zeros((1, g))\n",
    "            A2t[0, i] = -1\n",
    "            A2 = np.vstack([A2, A2t])\n",
    "            gcn += 1\n",
    "\n",
    "    A1 = np.vstack([A1, np.zeros((1, n))])\n",
    "    A2 = np.vstack([A2, np.ones((1, g))])\n",
    "    A = np.hstack([A1, A2])\n",
    "\n",
    "    # RHS vector\n",
    "    b = np.zeros(gcn + 2)\n",
    "    b[0] = k\n",
    "    b[-1] = h\n",
    "\n",
    "    # Lower and upper bounds\n",
    "    lb = np.zeros(n + g)\n",
    "    ub = np.ones(n + g)\n",
    "\n",
    "    # Setup Gurobi model\n",
    "    model = Model()\n",
    "\n",
    "    # Add variables\n",
    "    Q = H\n",
    "    x = model.addMVar(n + g, ub=1.0, lb=0.0)\n",
    "    \n",
    "    model.setObjective(x@Q@x+ x@f)\n",
    "    model.addConstr(A @ x <= b)\n",
    "    \n",
    "\n",
    "    # Set Gurobi parameters\n",
    "    model.setParam('OutputFlag', 0)\n",
    "    model.setParam('IterationLimit', 5)\n",
    "\n",
    "    # Optimize model\n",
    "    model.optimize()\n",
    "\n",
    "    # Get the results\n",
    "    up = x.x[:n]\n",
    "    zp = x.x[n:]\n",
    "\n",
    "    return up"
   ]
  },
  {
   "cell_type": "code",
   "execution_count": 24,
   "id": "be0ae9d0-0e38-49a8-90bd-82ae06322e93",
   "metadata": {
    "tags": []
   },
   "outputs": [],
   "source": [
    "u = np.loadtxt(\"u.txt\",delimiter=',')[:,np.newaxis]"
   ]
  },
  {
   "cell_type": "code",
   "execution_count": 25,
   "id": "70bc0946-0163-468e-a8eb-c538e2f0dbb6",
   "metadata": {
    "tags": []
   },
   "outputs": [
    {
     "data": {
      "text/plain": [
       "(1000, 1)"
      ]
     },
     "execution_count": 25,
     "metadata": {},
     "output_type": "execute_result"
    }
   ],
   "source": [
    "u.shape"
   ]
  },
  {
   "cell_type": "code",
   "execution_count": 19,
   "id": "ad2c8a17-8bb4-4585-9420-b281d3515eb0",
   "metadata": {
    "tags": []
   },
   "outputs": [],
   "source": [
    "k=60\n",
    "h=3\n",
    "gn = 10\n",
    "Group = []\n",
    "\n",
    "for i in range(1, gn + 1):\n",
    "    Group.append(list(range((i-1)*100 , i*100)))"
   ]
  },
  {
   "cell_type": "code",
   "execution_count": 20,
   "id": "cfeb9058-fe92-4a6d-918c-0baa2e604ad5",
   "metadata": {
    "tags": []
   },
   "outputs": [
    {
     "name": "stdout",
     "output_type": "stream",
     "text": [
      "(1010,)\n"
     ]
    }
   ],
   "source": [
    "up = ProjCSimplexGL_Gurobi(u, k, Group, h)"
   ]
  },
  {
   "cell_type": "code",
   "execution_count": 22,
   "id": "7af0e84e-26ce-44c5-8880-a29ebca5ea59",
   "metadata": {
    "tags": []
   },
   "outputs": [
    {
     "data": {
      "text/plain": [
       "1000"
      ]
     },
     "execution_count": 22,
     "metadata": {},
     "output_type": "execute_result"
    }
   ],
   "source": [
    "len(up)"
   ]
  },
  {
   "cell_type": "code",
   "execution_count": 13,
   "id": "55006c9e-08c1-458b-95db-30d2a097caa2",
   "metadata": {
    "tags": []
   },
   "outputs": [],
   "source": [
    "A1t = np.zeros((1, 1000))"
   ]
  },
  {
   "cell_type": "code",
   "execution_count": 20,
   "id": "b24ac3ea-16fe-4370-bcf9-4dd224b6d096",
   "metadata": {
    "tags": []
   },
   "outputs": [
    {
     "data": {
      "text/plain": [
       "[900,\n",
       " 901,\n",
       " 902,\n",
       " 903,\n",
       " 904,\n",
       " 905,\n",
       " 906,\n",
       " 907,\n",
       " 908,\n",
       " 909,\n",
       " 910,\n",
       " 911,\n",
       " 912,\n",
       " 913,\n",
       " 914,\n",
       " 915,\n",
       " 916,\n",
       " 917,\n",
       " 918,\n",
       " 919,\n",
       " 920,\n",
       " 921,\n",
       " 922,\n",
       " 923,\n",
       " 924,\n",
       " 925,\n",
       " 926,\n",
       " 927,\n",
       " 928,\n",
       " 929,\n",
       " 930,\n",
       " 931,\n",
       " 932,\n",
       " 933,\n",
       " 934,\n",
       " 935,\n",
       " 936,\n",
       " 937,\n",
       " 938,\n",
       " 939,\n",
       " 940,\n",
       " 941,\n",
       " 942,\n",
       " 943,\n",
       " 944,\n",
       " 945,\n",
       " 946,\n",
       " 947,\n",
       " 948,\n",
       " 949,\n",
       " 950,\n",
       " 951,\n",
       " 952,\n",
       " 953,\n",
       " 954,\n",
       " 955,\n",
       " 956,\n",
       " 957,\n",
       " 958,\n",
       " 959,\n",
       " 960,\n",
       " 961,\n",
       " 962,\n",
       " 963,\n",
       " 964,\n",
       " 965,\n",
       " 966,\n",
       " 967,\n",
       " 968,\n",
       " 969,\n",
       " 970,\n",
       " 971,\n",
       " 972,\n",
       " 973,\n",
       " 974,\n",
       " 975,\n",
       " 976,\n",
       " 977,\n",
       " 978,\n",
       " 979,\n",
       " 980,\n",
       " 981,\n",
       " 982,\n",
       " 983,\n",
       " 984,\n",
       " 985,\n",
       " 986,\n",
       " 987,\n",
       " 988,\n",
       " 989,\n",
       " 990,\n",
       " 991,\n",
       " 992,\n",
       " 993,\n",
       " 994,\n",
       " 995,\n",
       " 996,\n",
       " 997,\n",
       " 998,\n",
       " 999]"
      ]
     },
     "execution_count": 20,
     "metadata": {},
     "output_type": "execute_result"
    }
   ],
   "source": [
    "Group[9]"
   ]
  },
  {
   "cell_type": "code",
   "execution_count": null,
   "id": "50abc028-6adc-4bde-8c8e-76b9bbb32ad7",
   "metadata": {},
   "outputs": [],
   "source": []
  }
 ],
 "metadata": {
  "kernelspec": {
   "display_name": "Python 3 (ipykernel)",
   "language": "python",
   "name": "python3"
  },
  "language_info": {
   "codemirror_mode": {
    "name": "ipython",
    "version": 3
   },
   "file_extension": ".py",
   "mimetype": "text/x-python",
   "name": "python",
   "nbconvert_exporter": "python",
   "pygments_lexer": "ipython3",
   "version": "3.10.8"
  }
 },
 "nbformat": 4,
 "nbformat_minor": 5
}
