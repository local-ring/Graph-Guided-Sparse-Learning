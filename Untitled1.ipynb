{
 "cells": [
  {
   "cell_type": "code",
   "execution_count": 1,
   "id": "e54e04be",
   "metadata": {},
   "outputs": [
    {
     "name": "stdout",
     "output_type": "stream",
     "text": [
      "Collecting selenium\n",
      "  Downloading selenium-4.27.1-py3-none-any.whl.metadata (7.1 kB)\n",
      "Requirement already satisfied: urllib3<3,>=1.26 in /opt/homebrew/Caskroom/miniconda/base/envs/erdos_fall_2024/lib/python3.12/site-packages (from urllib3[socks]<3,>=1.26->selenium) (2.2.2)\n",
      "Collecting trio~=0.17 (from selenium)\n",
      "  Downloading trio-0.27.0-py3-none-any.whl.metadata (8.6 kB)\n",
      "Collecting trio-websocket~=0.9 (from selenium)\n",
      "  Downloading trio_websocket-0.11.1-py3-none-any.whl.metadata (4.7 kB)\n",
      "Requirement already satisfied: certifi>=2021.10.8 in /opt/homebrew/Caskroom/miniconda/base/envs/erdos_fall_2024/lib/python3.12/site-packages (from selenium) (2024.8.30)\n",
      "Requirement already satisfied: typing_extensions~=4.9 in /opt/homebrew/Caskroom/miniconda/base/envs/erdos_fall_2024/lib/python3.12/site-packages (from selenium) (4.12.2)\n",
      "Requirement already satisfied: websocket-client~=1.8 in /opt/homebrew/Caskroom/miniconda/base/envs/erdos_fall_2024/lib/python3.12/site-packages (from selenium) (1.8.0)\n",
      "Requirement already satisfied: attrs>=23.2.0 in /opt/homebrew/Caskroom/miniconda/base/envs/erdos_fall_2024/lib/python3.12/site-packages (from trio~=0.17->selenium) (24.2.0)\n",
      "Collecting sortedcontainers (from trio~=0.17->selenium)\n",
      "  Downloading sortedcontainers-2.4.0-py2.py3-none-any.whl.metadata (10 kB)\n",
      "Requirement already satisfied: idna in /opt/homebrew/Caskroom/miniconda/base/envs/erdos_fall_2024/lib/python3.12/site-packages (from trio~=0.17->selenium) (3.8)\n",
      "Collecting outcome (from trio~=0.17->selenium)\n",
      "  Downloading outcome-1.3.0.post0-py2.py3-none-any.whl.metadata (2.6 kB)\n",
      "Requirement already satisfied: sniffio>=1.3.0 in /opt/homebrew/Caskroom/miniconda/base/envs/erdos_fall_2024/lib/python3.12/site-packages (from trio~=0.17->selenium) (1.3.1)\n",
      "Collecting wsproto>=0.14 (from trio-websocket~=0.9->selenium)\n",
      "  Downloading wsproto-1.2.0-py3-none-any.whl.metadata (5.6 kB)\n",
      "Requirement already satisfied: pysocks!=1.5.7,<2.0,>=1.5.6 in /opt/homebrew/Caskroom/miniconda/base/envs/erdos_fall_2024/lib/python3.12/site-packages (from urllib3[socks]<3,>=1.26->selenium) (1.7.1)\n",
      "Requirement already satisfied: h11<1,>=0.9.0 in /opt/homebrew/Caskroom/miniconda/base/envs/erdos_fall_2024/lib/python3.12/site-packages (from wsproto>=0.14->trio-websocket~=0.9->selenium) (0.14.0)\n",
      "Downloading selenium-4.27.1-py3-none-any.whl (9.7 MB)\n",
      "\u001b[2K   \u001b[90m━━━━━━━━━━━━━━━━━━━━━━━━━━━━━━━━━━━━━━━━\u001b[0m \u001b[32m9.7/9.7 MB\u001b[0m \u001b[31m3.3 MB/s\u001b[0m eta \u001b[36m0:00:00\u001b[0m00:01\u001b[0m00:01\u001b[0m\n",
      "\u001b[?25hDownloading trio-0.27.0-py3-none-any.whl (481 kB)\n",
      "Downloading trio_websocket-0.11.1-py3-none-any.whl (17 kB)\n",
      "Downloading wsproto-1.2.0-py3-none-any.whl (24 kB)\n",
      "Downloading outcome-1.3.0.post0-py2.py3-none-any.whl (10 kB)\n",
      "Downloading sortedcontainers-2.4.0-py2.py3-none-any.whl (29 kB)\n",
      "Installing collected packages: sortedcontainers, wsproto, outcome, trio, trio-websocket, selenium\n",
      "Successfully installed outcome-1.3.0.post0 selenium-4.27.1 sortedcontainers-2.4.0 trio-0.27.0 trio-websocket-0.11.1 wsproto-1.2.0\n"
     ]
    }
   ],
   "source": [
    "!pip install selenium"
   ]
  },
  {
   "cell_type": "code",
   "execution_count": 2,
   "id": "de9ac717",
   "metadata": {},
   "outputs": [
    {
     "name": "stdout",
     "output_type": "stream",
     "text": [
      "An error occurred: Message: no such element: Unable to locate element: {\"method\":\"css selector\",\"selector\":\"CSS_SELECTOR_FOR_EXPRESSION\"}\n",
      "  (Session info: chrome=131.0.6778.86); For documentation on this error, please visit: https://www.selenium.dev/documentation/webdriver/troubleshooting/errors#no-such-element-exception\n",
      "Stacktrace:\n",
      "0   chromedriver                        0x0000000100777ac4 cxxbridge1$str$ptr + 3651580\n",
      "1   chromedriver                        0x0000000100770314 cxxbridge1$str$ptr + 3620940\n",
      "2   chromedriver                        0x00000001001d84b4 cxxbridge1$string$len + 89224\n",
      "3   chromedriver                        0x000000010021c898 cxxbridge1$string$len + 368748\n",
      "4   chromedriver                        0x00000001002560fc cxxbridge1$string$len + 604368\n",
      "5   chromedriver                        0x00000001002110b0 cxxbridge1$string$len + 321668\n",
      "6   chromedriver                        0x0000000100211d00 cxxbridge1$string$len + 324820\n",
      "7   chromedriver                        0x0000000100742e08 cxxbridge1$str$ptr + 3435328\n",
      "8   chromedriver                        0x0000000100746120 cxxbridge1$str$ptr + 3448408\n",
      "9   chromedriver                        0x000000010072a17c cxxbridge1$str$ptr + 3333812\n",
      "10  chromedriver                        0x00000001007469e0 cxxbridge1$str$ptr + 3450648\n",
      "11  chromedriver                        0x000000010071b988 cxxbridge1$str$ptr + 3274432\n",
      "12  chromedriver                        0x00000001007610f4 cxxbridge1$str$ptr + 3558956\n",
      "13  chromedriver                        0x0000000100761270 cxxbridge1$str$ptr + 3559336\n",
      "14  chromedriver                        0x000000010076ff88 cxxbridge1$str$ptr + 3620032\n",
      "15  libsystem_pthread.dylib             0x000000019e8e5f94 _pthread_start + 136\n",
      "16  libsystem_pthread.dylib             0x000000019e8e0d34 thread_start + 8\n",
      "\n"
     ]
    }
   ],
   "source": [
    "\n",
    "from selenium import webdriver\n",
    "from selenium.webdriver.common.by import By\n",
    "from selenium.webdriver.common.keys import Keys\n",
    "import time\n",
    "\n",
    "# Initialize the browser\n",
    "driver = webdriver.Chrome()  # Update with the appropriate driver if not using Chrome\n",
    "\n",
    "# Open the webpage\n",
    "url = \"https://www.gsa-spark.com/speedtest/46f20a5f-ff5e-4892-9529-88a06595b513\"  # Replace with the actual URL\n",
    "driver.get(url)\n",
    "\n",
    "\n",
    "try:\n",
    "    # Locate the element containing the expression\n",
    "    expression_element = driver.find_element(By.CSS_SELECTOR, \"CSS_SELECTOR_FOR_EXPRESSION\")  # Replace with the actual CSS selector\n",
    "    expression = expression_element.text.strip()  # Get the expression text\n",
    "    \n",
    "    # Evaluate the expression\n",
    "    result = eval(expression)  # Use eval carefully; ensure no malicious content in the expression\n",
    "    \n",
    "    # Locate the input box\n",
    "    input_element = driver.find_element(By.CSS_SELECTOR, \"CSS_SELECTOR_FOR_INPUT_BOX\")  # Replace with the actual CSS selector\n",
    "    \n",
    "    # Fill in the result\n",
    "    input_element.clear()\n",
    "    input_element.send_keys(str(result))\n",
    "    \n",
    "    # Optionally submit the result if there's a submit button\n",
    "    submit_button = driver.find_element(By.CSS_SELECTOR, \"CSS_SELECTOR_FOR_SUBMIT_BUTTON\")  # Replace with the actual CSS selector\n",
    "    submit_button.click()\n",
    "    \n",
    "    print(f\"Expression: {expression}, Result: {result} - Filled and Submitted!\")\n",
    "    \n",
    "except Exception as e:\n",
    "    print(f\"An error occurred: {e}\")\n",
    "\n",
    "finally:\n",
    "    # Close the browser after some time\n",
    "    time.sleep(5)\n",
    "    driver.quit()\n"
   ]
  },
  {
   "cell_type": "code",
   "execution_count": 1,
   "id": "5fb0e0c2",
   "metadata": {},
   "outputs": [
    {
     "name": "stdout",
     "output_type": "stream",
     "text": [
      "Expression: 99594 + 76110, Result: 175704 - Submitted!\n"
     ]
    }
   ],
   "source": [
    "from selenium import webdriver\n",
    "from selenium.webdriver.common.by import By\n",
    "import time\n",
    "\n",
    "# Initialize the browser\n",
    "driver = webdriver.Chrome()  # Update if you're using another browser's driver\n",
    "\n",
    "# Open the webpage\n",
    "url = \"http://gsa-spark.com/speedtest/46f20a5f-ff5e-4892-9529-88a06595b513\"\n",
    "driver.get(url)\n",
    "\n",
    "# Allow the page to load\n",
    "time.sleep(0.01)\n",
    "\n",
    "try:\n",
    "    # Locate elements containing the numbers and operator\n",
    "    number1 = driver.find_element(By.ID, \"number1\").text.strip()\n",
    "    operator = driver.find_element(By.ID, \"plus\").text.strip()\n",
    "    number2 = driver.find_element(By.ID, \"number2\").text.strip()\n",
    "    \n",
    "    # Evaluate the expression (e.g., \"14138 + 23618\")\n",
    "    expression = f\"{number1} {operator} {number2}\"\n",
    "    result = eval(expression)\n",
    "    \n",
    "    # Locate the input box and submit the result\n",
    "    input_box = driver.find_element(By.ID, \"answer\")\n",
    "    input_box.clear()\n",
    "    input_box.send_keys(str(result))\n",
    "    \n",
    "    submit_button = driver.find_element(By.CSS_SELECTOR, \"button[type='submit']\")\n",
    "    submit_button.click()\n",
    "    \n",
    "    print(f\"Expression: {expression}, Result: {result} - Submitted!\")\n",
    "    \n",
    "    # Hold the browser open to verify submission\n",
    "    time.sleep(5)\n",
    "    \n",
    "except Exception as e:\n",
    "    print(f\"An error occurred: {e}\")\n",
    "\n",
    "finally:\n",
    "    driver.quit()\n"
   ]
  },
  {
   "cell_type": "code",
   "execution_count": 23,
   "id": "3610fa56-2a7d-48f3-8e7d-3be44f120cb2",
   "metadata": {
    "tags": []
   },
   "outputs": [],
   "source": [
    "import numpy as np\n",
    "from gurobipy import Model, GRB, QuadExpr\n",
    "\n",
    "def ProjCSimplexGL_Gurobi(u, k, Group, h):\n",
    "    n, m = u.shape\n",
    "    g = len(Group)\n",
    "    \n",
    "    # Create matrices H1 and H2\n",
    "    H1 = np.eye(n)\n",
    "    f1 = -2*u.flatten()\n",
    "\n",
    "    H2 = np.zeros((g, g))\n",
    "    f2 = np.zeros(g)\n",
    "\n",
    "    H = np.block([[H1, np.zeros((n, g))], [np.zeros((g, n)), H2]])\n",
    "    f = np.concatenate([f1, f2])\n",
    "    #print(f.shape)\n",
    "\n",
    "    # Constructing constraint matrices A1 and A2\n",
    "    A1 = np.ones((1, n))\n",
    "    A2 = np.zeros((1, g))\n",
    "    gcn = 0\n",
    "\n",
    "    for i in range(g):\n",
    "        for j in range(len(Group[i])):\n",
    "            A1t = np.zeros((1, n))\n",
    "            A1t[0, Group[i][j]] = 1\n",
    "            A1 = np.vstack([A1, A1t])\n",
    "            \n",
    "            A2t = np.zeros((1, g))\n",
    "            A2t[0, i] = -1\n",
    "            A2 = np.vstack([A2, A2t])\n",
    "            gcn += 1\n",
    "\n",
    "    A1 = np.vstack([A1, np.zeros((1, n))])\n",
    "    A2 = np.vstack([A2, np.ones((1, g))])\n",
    "    A = np.hstack([A1, A2])\n",
    "\n",
    "    # RHS vector\n",
    "    b = np.zeros(gcn + 2)\n",
    "    b[0] = k\n",
    "    b[-1] = h\n",
    "\n",
    "    # Lower and upper bounds\n",
    "    lb = np.zeros(n + g)\n",
    "    ub = np.ones(n + g)\n",
    "\n",
    "    # Setup Gurobi model\n",
    "    model = Model()\n",
    "\n",
    "    # Add variables\n",
    "    Q = H\n",
    "    x = model.addMVar(n + g, ub=1.0, lb=0.0)\n",
    "    \n",
    "    model.setObjective(x@Q@x+ x@f)\n",
    "    model.addConstr(A @ x <= b)\n",
    "    \n",
    "\n",
    "    # Set Gurobi parameters\n",
    "    model.setParam('OutputFlag', 0)\n",
    "    model.setParam('IterationLimit', 5)\n",
    "\n",
    "    # Optimize model\n",
    "    model.optimize()\n",
    "\n",
    "    # Get the results\n",
    "    up = x.x[:n]\n",
    "    zp = x.x[n:]\n",
    "\n",
    "    return up"
   ]
  },
  {
   "cell_type": "code",
   "execution_count": 24,
   "id": "be0ae9d0-0e38-49a8-90bd-82ae06322e93",
   "metadata": {
    "tags": []
   },
   "outputs": [],
   "source": [
    "u = np.loadtxt(\"u.txt\",delimiter=',')[:,np.newaxis]"
   ]
  },
  {
   "cell_type": "code",
   "execution_count": 25,
   "id": "70bc0946-0163-468e-a8eb-c538e2f0dbb6",
   "metadata": {
    "tags": []
   },
   "outputs": [
    {
     "data": {
      "text/plain": [
       "(1000, 1)"
      ]
     },
     "execution_count": 25,
     "metadata": {},
     "output_type": "execute_result"
    }
   ],
   "source": [
    "u.shape"
   ]
  },
  {
   "cell_type": "code",
   "execution_count": 19,
   "id": "ad2c8a17-8bb4-4585-9420-b281d3515eb0",
   "metadata": {
    "tags": []
   },
   "outputs": [],
   "source": [
    "k=60\n",
    "h=3\n",
    "gn = 10\n",
    "Group = []\n",
    "\n",
    "for i in range(1, gn + 1):\n",
    "    Group.append(list(range((i-1)*100 , i*100)))"
   ]
  },
  {
   "cell_type": "code",
   "execution_count": 20,
   "id": "cfeb9058-fe92-4a6d-918c-0baa2e604ad5",
   "metadata": {
    "tags": []
   },
   "outputs": [
    {
     "name": "stdout",
     "output_type": "stream",
     "text": [
      "(1010,)\n"
     ]
    }
   ],
   "source": [
    "up = ProjCSimplexGL_Gurobi(u, k, Group, h)"
   ]
  },
  {
   "cell_type": "code",
   "execution_count": 22,
   "id": "7af0e84e-26ce-44c5-8880-a29ebca5ea59",
   "metadata": {
    "tags": []
   },
   "outputs": [
    {
     "data": {
      "text/plain": [
       "1000"
      ]
     },
     "execution_count": 22,
     "metadata": {},
     "output_type": "execute_result"
    }
   ],
   "source": [
    "len(up)"
   ]
  },
  {
   "cell_type": "code",
   "execution_count": 13,
   "id": "55006c9e-08c1-458b-95db-30d2a097caa2",
   "metadata": {
    "tags": []
   },
   "outputs": [],
   "source": [
    "A1t = np.zeros((1, 1000))"
   ]
  },
  {
   "cell_type": "code",
   "execution_count": 20,
   "id": "b24ac3ea-16fe-4370-bcf9-4dd224b6d096",
   "metadata": {
    "tags": []
   },
   "outputs": [
    {
     "data": {
      "text/plain": [
       "[900,\n",
       " 901,\n",
       " 902,\n",
       " 903,\n",
       " 904,\n",
       " 905,\n",
       " 906,\n",
       " 907,\n",
       " 908,\n",
       " 909,\n",
       " 910,\n",
       " 911,\n",
       " 912,\n",
       " 913,\n",
       " 914,\n",
       " 915,\n",
       " 916,\n",
       " 917,\n",
       " 918,\n",
       " 919,\n",
       " 920,\n",
       " 921,\n",
       " 922,\n",
       " 923,\n",
       " 924,\n",
       " 925,\n",
       " 926,\n",
       " 927,\n",
       " 928,\n",
       " 929,\n",
       " 930,\n",
       " 931,\n",
       " 932,\n",
       " 933,\n",
       " 934,\n",
       " 935,\n",
       " 936,\n",
       " 937,\n",
       " 938,\n",
       " 939,\n",
       " 940,\n",
       " 941,\n",
       " 942,\n",
       " 943,\n",
       " 944,\n",
       " 945,\n",
       " 946,\n",
       " 947,\n",
       " 948,\n",
       " 949,\n",
       " 950,\n",
       " 951,\n",
       " 952,\n",
       " 953,\n",
       " 954,\n",
       " 955,\n",
       " 956,\n",
       " 957,\n",
       " 958,\n",
       " 959,\n",
       " 960,\n",
       " 961,\n",
       " 962,\n",
       " 963,\n",
       " 964,\n",
       " 965,\n",
       " 966,\n",
       " 967,\n",
       " 968,\n",
       " 969,\n",
       " 970,\n",
       " 971,\n",
       " 972,\n",
       " 973,\n",
       " 974,\n",
       " 975,\n",
       " 976,\n",
       " 977,\n",
       " 978,\n",
       " 979,\n",
       " 980,\n",
       " 981,\n",
       " 982,\n",
       " 983,\n",
       " 984,\n",
       " 985,\n",
       " 986,\n",
       " 987,\n",
       " 988,\n",
       " 989,\n",
       " 990,\n",
       " 991,\n",
       " 992,\n",
       " 993,\n",
       " 994,\n",
       " 995,\n",
       " 996,\n",
       " 997,\n",
       " 998,\n",
       " 999]"
      ]
     },
     "execution_count": 20,
     "metadata": {},
     "output_type": "execute_result"
    }
   ],
   "source": [
    "Group[9]"
   ]
  },
  {
   "cell_type": "code",
   "execution_count": null,
   "id": "50abc028-6adc-4bde-8c8e-76b9bbb32ad7",
   "metadata": {},
   "outputs": [],
   "source": []
  }
 ],
 "metadata": {
  "kernelspec": {
   "display_name": "erdos_fall_2024",
   "language": "python",
   "name": "python3"
  },
  "language_info": {
   "codemirror_mode": {
    "name": "ipython",
    "version": 3
   },
   "file_extension": ".py",
   "mimetype": "text/x-python",
   "name": "python",
   "nbconvert_exporter": "python",
   "pygments_lexer": "ipython3",
   "version": "3.12.5"
  }
 },
 "nbformat": 4,
 "nbformat_minor": 5
}
